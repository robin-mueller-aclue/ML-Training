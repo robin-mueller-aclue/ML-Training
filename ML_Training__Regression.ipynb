{
  "nbformat": 4,
  "nbformat_minor": 0,
  "metadata": {
    "colab": {
      "name": "ML-Training_ Regression.ipynb",
      "provenance": [],
      "collapsed_sections": [],
      "authorship_tag": "ABX9TyP+NwMEUyLOA75YaZVT1x4M",
      "include_colab_link": true
    },
    "kernelspec": {
      "name": "python3",
      "display_name": "Python 3"
    }
  },
  "cells": [
    {
      "cell_type": "markdown",
      "metadata": {
        "id": "view-in-github",
        "colab_type": "text"
      },
      "source": [
        "<a href=\"https://colab.research.google.com/github/robin-mueller-aclue/ML-Training/blob/master/ML_Training__Regression.ipynb\" target=\"_parent\"><img src=\"https://colab.research.google.com/assets/colab-badge.svg\" alt=\"Open In Colab\"/></a>"
      ]
    },
    {
      "cell_type": "markdown",
      "metadata": {
        "id": "fIsXOyelMpDT"
      },
      "source": [
        "# Libraries imporieren"
      ]
    },
    {
      "cell_type": "code",
      "metadata": {
        "id": "Xmor1AL8JjHz"
      },
      "source": [
        "from tensorflow import keras\r\n",
        "from tensorflow.keras import layers\r\n",
        "\r\n",
        "%matplotlib inline\r\n",
        "import matplotlib.pyplot as plt\r\n",
        "from scipy.signal import savgol_filter"
      ],
      "execution_count": null,
      "outputs": []
    },
    {
      "cell_type": "markdown",
      "metadata": {
        "id": "F7O-zcW9MiWw"
      },
      "source": [
        "# Datensatz importieren"
      ]
    },
    {
      "cell_type": "code",
      "metadata": {
        "id": "cFh9ZwGOM5JC"
      },
      "source": [
        "(train_features, train_labels), (test_features, test_labels) = keras.datasets.boston_housing \\\r\n",
        "    .load_data(path='boston_housing.npz', test_split=0.2, seed=113)"
      ],
      "execution_count": null,
      "outputs": []
    },
    {
      "cell_type": "markdown",
      "metadata": {
        "id": "WUzUCnkfM7iT"
      },
      "source": [
        "# Modell definieren"
      ]
    },
    {
      "cell_type": "code",
      "metadata": {
        "id": "90ouVKNfNDlu"
      },
      "source": [
        "model = keras.Sequential([\r\n",
        "    layers.Dense(64, activation='relu'),\r\n",
        "    layers.Dense(1)\r\n",
        "])"
      ],
      "execution_count": null,
      "outputs": []
    },
    {
      "cell_type": "markdown",
      "metadata": {
        "id": "AzejQ4jQNIQu"
      },
      "source": [
        "# Modell kompilieren"
      ]
    },
    {
      "cell_type": "code",
      "metadata": {
        "id": "9y_IVEFkNLQV"
      },
      "source": [
        "model.compile(loss=keras.losses.MeanAbsoluteError(),\r\n",
        "              optimizer=keras.optimizers.Adam(0.001))"
      ],
      "execution_count": null,
      "outputs": []
    },
    {
      "cell_type": "markdown",
      "metadata": {
        "id": "eqVsMO90OMQz"
      },
      "source": [
        "# Modell trainieren"
      ]
    },
    {
      "cell_type": "code",
      "metadata": {
        "id": "jVMnrh9vOZcN"
      },
      "source": [
        "history = model.fit(train_features, train_labels, batch_size=32, validation_split=0.2, epochs=100)"
      ],
      "execution_count": null,
      "outputs": []
    },
    {
      "cell_type": "markdown",
      "metadata": {
        "id": "eac9FHftOcsg"
      },
      "source": [
        "# Modell evaluieren"
      ]
    },
    {
      "cell_type": "code",
      "metadata": {
        "id": "fDNuS7vhOe0j"
      },
      "source": [
        "plt.plot(savgol_filter(history.history['loss'], 81, 2), label='training loss')\r\n",
        "plt.plot(savgol_filter(history.history['val_loss'], 81, 2), label='test loss')\r\n",
        "plt.ylim([0, 10])\r\n",
        "plt.xlabel('Epoch')\r\n",
        "plt.ylabel('Error')\r\n",
        "plt.legend()\r\n",
        "plt.grid(True)\r\n",
        "plt.show()"
      ],
      "execution_count": null,
      "outputs": []
    },
    {
      "cell_type": "markdown",
      "metadata": {
        "id": "VuTS_amnOp80"
      },
      "source": [
        "# Vorhersagen treffen"
      ]
    },
    {
      "cell_type": "code",
      "metadata": {
        "id": "xBpM-b-MOnG4"
      },
      "source": [
        "test_predictions = model.predict(test_features).flatten()"
      ],
      "execution_count": null,
      "outputs": []
    },
    {
      "cell_type": "markdown",
      "metadata": {
        "id": "GFRWUp7aOw1f"
      },
      "source": [
        "# Vorhersagen evaluieren"
      ]
    },
    {
      "cell_type": "code",
      "metadata": {
        "id": "DX7LbxqnOzU1"
      },
      "source": [
        "plt.axes(aspect='equal')\r\n",
        "plt.scatter(test_labels, test_predictions)\r\n",
        "plt.xlabel('True Values')\r\n",
        "plt.ylabel('Predictions')\r\n",
        "lims = [0, 50]\r\n",
        "plt.xlim(lims)\r\n",
        "plt.ylim(lims)\r\n",
        "plt.plot(lims, lims)\r\n",
        "plt.show()"
      ],
      "execution_count": null,
      "outputs": []
    }
  ]
}