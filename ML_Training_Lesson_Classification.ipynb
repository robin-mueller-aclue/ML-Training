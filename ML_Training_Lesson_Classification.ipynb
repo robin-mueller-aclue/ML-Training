{
  "nbformat": 4,
  "nbformat_minor": 0,
  "metadata": {
    "colab": {
      "name": "ML_Training_Lesson_Classification.ipynb",
      "provenance": [],
      "collapsed_sections": [],
      "authorship_tag": "ABX9TyPaQI21NWI1PpA0hPKRKzxe",
      "include_colab_link": true
    },
    "kernelspec": {
      "name": "python3",
      "display_name": "Python 3"
    },
    "language_info": {
      "name": "python"
    },
    "accelerator": "GPU"
  },
  "cells": [
    {
      "cell_type": "markdown",
      "metadata": {
        "id": "view-in-github",
        "colab_type": "text"
      },
      "source": [
        "<a href=\"https://colab.research.google.com/github/robin-mueller-aclue/ML-Training/blob/master/ML_Training_Lesson_Classification.ipynb\" target=\"_parent\"><img src=\"https://colab.research.google.com/assets/colab-badge.svg\" alt=\"Open In Colab\"/></a>"
      ]
    },
    {
      "cell_type": "markdown",
      "source": [
        "**Library Imports**"
      ],
      "metadata": {
        "id": "bq-f79LCWAEQ"
      }
    },
    {
      "cell_type": "code",
      "execution_count": null,
      "metadata": {
        "id": "YsyFVam2Vdgh"
      },
      "outputs": [],
      "source": [
        "from tensorflow import keras\n",
        "\n",
        "%matplotlib inline\n",
        "import matplotlib.pyplot as plt"
      ]
    },
    {
      "cell_type": "markdown",
      "source": [
        "**Datensatz importieren**"
      ],
      "metadata": {
        "id": "2_S81cGRWda_"
      }
    },
    {
      "cell_type": "code",
      "source": [
        "# TODO"
      ],
      "metadata": {
        "id": "Op415lG7WfUW"
      },
      "execution_count": null,
      "outputs": []
    },
    {
      "cell_type": "markdown",
      "source": [
        "**Datensatz normalisieren**"
      ],
      "metadata": {
        "id": "JF6qwhJRWfml"
      }
    },
    {
      "cell_type": "code",
      "source": [
        "train_features = train_features / 255\n",
        "test_features = test_features / 255"
      ],
      "metadata": {
        "id": "IZ0eSxEOWgCa"
      },
      "execution_count": null,
      "outputs": []
    },
    {
      "cell_type": "markdown",
      "source": [
        "**Modell definieren**"
      ],
      "metadata": {
        "id": "xeDV5o4BWgX9"
      }
    },
    {
      "cell_type": "code",
      "source": [
        "model = keras.models.Sequential([\n",
        "  # Input Layer\n",
        "  keras.layers.Flatten(input_shape=(32, 32, 3)),\n",
        "\n",
        "  # Hidden Layer\n",
        "  # TODO\n",
        "\n",
        "  # Output Layer\n",
        "  keras.layers.Dense(10)                          \n",
        "])"
      ],
      "metadata": {
        "id": "f0L6dSKOW-O9"
      },
      "execution_count": null,
      "outputs": []
    },
    {
      "cell_type": "markdown",
      "source": [
        "**Modell kompilieren**"
      ],
      "metadata": {
        "id": "R9SpX9yLXZqe"
      }
    },
    {
      "cell_type": "code",
      "source": [
        "learning_rate = # TODO\n",
        "\n",
        "model.compile(loss=keras.losses.SparseCategoricalCrossentropy(from_logits=True),\n",
        "              optimizer=keras.optimizers.Adam(learning_rate),\n",
        "              metrics=['accuracy'])"
      ],
      "metadata": {
        "id": "Zs04XuMSXcHw"
      },
      "execution_count": null,
      "outputs": []
    },
    {
      "cell_type": "markdown",
      "source": [
        "**Modell trainieren**"
      ],
      "metadata": {
        "id": "dUYeMucQXgDP"
      }
    },
    {
      "cell_type": "code",
      "source": [
        "epochs = # TODO\n",
        "batch_size = 32\n",
        "validation_split = 0.2\n",
        "\n",
        "history = model.fit(train_features, train_labels, epochs=epochs, batch_size=batch_size,\n",
        "                    validation_split=validation_split, verbose=1)"
      ],
      "metadata": {
        "id": "wWvlslE4Xfrq"
      },
      "execution_count": null,
      "outputs": []
    },
    {
      "cell_type": "markdown",
      "source": [
        "**Training visualisieren**"
      ],
      "metadata": {
        "id": "3X8XPNVrYTHe"
      }
    },
    {
      "cell_type": "code",
      "source": [
        "plt.plot(history.history['accuracy'], label='training accuracy')\n",
        "plt.plot(history.history['val_accuracy'], label = 'test accuracy')\n",
        "plt.xlabel('Epoch')\n",
        "plt.ylabel('Accuracy')\n",
        "plt.ylim([0, 1])\n",
        "plt.legend(loc='lower right')"
      ],
      "metadata": {
        "id": "0Zwt1MonYX1q"
      },
      "execution_count": null,
      "outputs": []
    },
    {
      "cell_type": "markdown",
      "source": [
        "**Modell evaluieren**"
      ],
      "metadata": {
        "id": "9uVwqVDsYiUT"
      }
    },
    {
      "cell_type": "code",
      "source": [
        "model.evaluate(test_features, test_labels, verbose=1)"
      ],
      "metadata": {
        "colab": {
          "base_uri": "https://localhost:8080/"
        },
        "id": "kH4gCOpxYlgs",
        "outputId": "3141ee47-7973-4795-d8af-0e2a185a7496"
      },
      "execution_count": null,
      "outputs": [
        {
          "output_type": "stream",
          "name": "stdout",
          "text": [
            "313/313 [==============================] - 1s 4ms/step - loss: 1.5566 - accuracy: 0.4557\n"
          ]
        },
        {
          "output_type": "execute_result",
          "data": {
            "text/plain": [
              "[1.5566473007202148, 0.45570001006126404]"
            ]
          },
          "metadata": {},
          "execution_count": 26
        }
      ]
    },
    {
      "cell_type": "markdown",
      "source": [
        "**Testergebnisse visualisieren**"
      ],
      "metadata": {
        "id": "1Feyq0vsY0YQ"
      }
    },
    {
      "cell_type": "code",
      "source": [
        "test_predictions = model.predict(test_features)"
      ],
      "metadata": {
        "id": "ZZF7H0nGY7ss"
      },
      "execution_count": null,
      "outputs": []
    },
    {
      "cell_type": "code",
      "source": [
        "import seaborn as sn\n",
        "import pandas as pd\n",
        "import numpy as np\n",
        "from sklearn.metrics import confusion_matrix\n",
        "\n",
        "test_predictions_indexes = np.argmax(test_predictions, axis=1, out=None)\n",
        "\n",
        "conf = confusion_matrix(test_labels, test_predictions_indexes)\n",
        "sn.heatmap(conf, annot=True, cmap='Blues', fmt='g')"
      ],
      "metadata": {
        "colab": {
          "base_uri": "https://localhost:8080/",
          "height": 282
        },
        "id": "B4pgRvuNY9GI",
        "outputId": "dd827831-162c-4d30-9248-ffcd314b0fd8"
      },
      "execution_count": null,
      "outputs": [
        {
          "output_type": "execute_result",
          "data": {
            "text/plain": [
              "<matplotlib.axes._subplots.AxesSubplot at 0x7fb9bf1aaad0>"
            ]
          },
          "metadata": {},
          "execution_count": 28
        },
        {
          "output_type": "display_data",
          "data": {
            "image/png": "[encoded data removed]",
            "text/plain": [
              "<Figure size 432x288 with 2 Axes>"
            ]
          },
          "metadata": {
            "needs_background": "light"
          }
        }
      ]
    }
  ]
}