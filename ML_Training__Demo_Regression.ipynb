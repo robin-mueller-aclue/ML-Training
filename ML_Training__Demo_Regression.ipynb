{
  "nbformat": 4,
  "nbformat_minor": 0,
  "metadata": {
    "colab": {
      "name": "ML-Training__Demo_Regression.ipynb",
      "provenance": [],
      "collapsed_sections": [],
      "authorship_tag": "ABX9TyNFAvXtKexNPxGQxk/f5aCM",
      "include_colab_link": true
    },
    "kernelspec": {
      "name": "python3",
      "display_name": "Python 3"
    }
  },
  "cells": [
    {
      "cell_type": "markdown",
      "metadata": {
        "id": "view-in-github",
        "colab_type": "text"
      },
      "source": [
        "<a href=\"https://colab.research.google.com/github/robin-mueller-aclue/ML-Training/blob/master/ML_Training__Demo_Regression.ipynb\" target=\"_parent\"><img src=\"https://colab.research.google.com/assets/colab-badge.svg\" alt=\"Open In Colab\"/></a>"
      ]
    },
    {
      "cell_type": "markdown",
      "metadata": {
        "id": "fIsXOyelMpDT"
      },
      "source": [
        "# Libraries imporieren"
      ]
    },
    {
      "cell_type": "code",
      "metadata": {
        "id": "Xmor1AL8JjHz"
      },
      "source": [
        "from tensorflow import keras\n",
        "from tensorflow.keras import layers\n",
        "\n",
        "%matplotlib inline\n",
        "import matplotlib.pyplot as plt\n",
        "from scipy.signal import savgol_filter"
      ],
      "execution_count": null,
      "outputs": []
    },
    {
      "cell_type": "markdown",
      "metadata": {
        "id": "F7O-zcW9MiWw"
      },
      "source": [
        "# Datensatz importieren"
      ]
    },
    {
      "cell_type": "code",
      "metadata": {
        "id": "cFh9ZwGOM5JC",
        "colab": {
          "base_uri": "https://localhost:8080/"
        },
        "outputId": "17c0ff24-e057-4085-80bb-949fbf68150f"
      },
      "source": [
        "(train_features, train_labels), (test_features, test_labels) = keras.datasets.boston_housing.load_data()"
      ],
      "execution_count": null,
      "outputs": [
        {
          "output_type": "stream",
          "text": [
            "Downloading data from https://storage.googleapis.com/tensorflow/tf-keras-datasets/boston_housing.npz\n",
            "57344/57026 [==============================] - 0s 0us/step\n"
          ],
          "name": "stdout"
        }
      ]
    },
    {
      "cell_type": "markdown",
      "metadata": {
        "id": "OH07V07Unqk2"
      },
      "source": [
        "# Datensatz untersuchen"
      ]
    },
    {
      "cell_type": "code",
      "metadata": {
        "colab": {
          "base_uri": "https://localhost:8080/"
        },
        "id": "SZiH-W5vntSL",
        "outputId": "143be30d-60ca-4624-d323-c473199b7015"
      },
      "source": [
        "print(f'Length \\n  Train:{len(train_features)} \\n  Test: {len(test_features)}\\n')\n",
        "\n",
        "print(f'Shape \\n  Features: {train_features.shape} \\n  Labels: {train_labels.shape}\\n')\n",
        "\n",
        "print(f'Samples \\n  Feature: {train_features[0]} \\n  Label: {train_labels[0]}\\n')"
      ],
      "execution_count": null,
      "outputs": [
        {
          "output_type": "stream",
          "text": [
            "Length \n",
            "  Train:404 \n",
            "  Test: 102\n",
            "\n",
            "Shape \n",
            "  Features: (404, 13) \n",
            "  Labels: (404,)\n",
            "\n",
            "Samples \n",
            "  Feature: [  1.23247   0.        8.14      0.        0.538     6.142    91.7\n",
            "   3.9769    4.      307.       21.      396.9      18.72   ] \n",
            "  Label: 15.2\n",
            "\n"
          ],
          "name": "stdout"
        }
      ]
    },
    {
      "cell_type": "markdown",
      "metadata": {
        "id": "WUzUCnkfM7iT"
      },
      "source": [
        "# Modell definieren"
      ]
    },
    {
      "cell_type": "code",
      "metadata": {
        "id": "90ouVKNfNDlu",
        "colab": {
          "base_uri": "https://localhost:8080/"
        },
        "outputId": "633a78a7-b7a1-4c9a-d486-a6d66fb15bf5"
      },
      "source": [
        "model = keras.Sequential([\n",
        "    layers.Dense(64, input_dim=13, activation='relu'),\n",
        "    layers.Dense(1)\n",
        "])\n",
        "\n",
        "print(model.summary())"
      ],
      "execution_count": null,
      "outputs": [
        {
          "output_type": "stream",
          "text": [
            "Model: \"sequential\"\n",
            "_________________________________________________________________\n",
            "Layer (type)                 Output Shape              Param #   \n",
            "=================================================================\n",
            "dense (Dense)                (None, 64)                896       \n",
            "_________________________________________________________________\n",
            "dense_1 (Dense)              (None, 1)                 65        \n",
            "=================================================================\n",
            "Total params: 961\n",
            "Trainable params: 961\n",
            "Non-trainable params: 0\n",
            "_________________________________________________________________\n",
            "None\n"
          ],
          "name": "stdout"
        }
      ]
    },
    {
      "cell_type": "markdown",
      "metadata": {
        "id": "AzejQ4jQNIQu"
      },
      "source": [
        "# Modell kompilieren"
      ]
    },
    {
      "cell_type": "code",
      "metadata": {
        "id": "9y_IVEFkNLQV"
      },
      "source": [
        "model.compile(loss=keras.losses.MeanAbsoluteError(),\n",
        "              optimizer=keras.optimizers.Adam(0.001))"
      ],
      "execution_count": null,
      "outputs": []
    },
    {
      "cell_type": "markdown",
      "metadata": {
        "id": "eqVsMO90OMQz"
      },
      "source": [
        "# Modell trainieren"
      ]
    },
    {
      "cell_type": "code",
      "metadata": {
        "id": "jVMnrh9vOZcN",
        "colab": {
          "base_uri": "https://localhost:8080/"
        },
        "outputId": "edbf2d64-3552-44a8-f1c3-dbab36aa3f39"
      },
      "source": [
        "history = model.fit(train_features, train_labels, batch_size=32, validation_split=0.2, epochs=100)"
      ],
      "execution_count": null,
      "outputs": [
        {
          "output_type": "stream",
          "text": [
            "Epoch 1/100\n",
            "11/11 [==============================] - 1s 40ms/step - loss: 14.8810 - val_loss: 12.4714\n",
            "Epoch 2/100\n",
            "11/11 [==============================] - 0s 5ms/step - loss: 10.9836 - val_loss: 10.1352\n",
            "Epoch 3/100\n",
            "11/11 [==============================] - 0s 4ms/step - loss: 8.6114 - val_loss: 7.9656\n",
            "Epoch 4/100\n",
            "11/11 [==============================] - 0s 4ms/step - loss: 6.7223 - val_loss: 8.2588\n",
            "Epoch 5/100\n",
            "11/11 [==============================] - 0s 5ms/step - loss: 6.5091 - val_loss: 6.8350\n",
            "Epoch 6/100\n",
            "11/11 [==============================] - 0s 5ms/step - loss: 6.5249 - val_loss: 6.4459\n",
            "Epoch 7/100\n",
            "11/11 [==============================] - 0s 5ms/step - loss: 6.4206 - val_loss: 6.1968\n",
            "Epoch 8/100\n",
            "11/11 [==============================] - 0s 5ms/step - loss: 6.6585 - val_loss: 6.0537\n",
            "Epoch 9/100\n",
            "11/11 [==============================] - 0s 5ms/step - loss: 5.6187 - val_loss: 5.9759\n",
            "Epoch 10/100\n",
            "11/11 [==============================] - 0s 4ms/step - loss: 5.3468 - val_loss: 6.0999\n",
            "Epoch 11/100\n",
            "11/11 [==============================] - 0s 5ms/step - loss: 5.3470 - val_loss: 5.9887\n",
            "Epoch 12/100\n",
            "11/11 [==============================] - 0s 4ms/step - loss: 5.5835 - val_loss: 6.8130\n",
            "Epoch 13/100\n",
            "11/11 [==============================] - 0s 5ms/step - loss: 5.3715 - val_loss: 5.5855\n",
            "Epoch 14/100\n",
            "11/11 [==============================] - 0s 5ms/step - loss: 4.8103 - val_loss: 5.8405\n",
            "Epoch 15/100\n",
            "11/11 [==============================] - 0s 5ms/step - loss: 5.3945 - val_loss: 5.5712\n",
            "Epoch 16/100\n",
            "11/11 [==============================] - 0s 5ms/step - loss: 5.6889 - val_loss: 5.2551\n",
            "Epoch 17/100\n",
            "11/11 [==============================] - 0s 5ms/step - loss: 4.3418 - val_loss: 5.2394\n",
            "Epoch 18/100\n",
            "11/11 [==============================] - 0s 5ms/step - loss: 4.3892 - val_loss: 5.1529\n",
            "Epoch 19/100\n",
            "11/11 [==============================] - 0s 5ms/step - loss: 4.6017 - val_loss: 5.3095\n",
            "Epoch 20/100\n",
            "11/11 [==============================] - 0s 5ms/step - loss: 4.5606 - val_loss: 5.4101\n",
            "Epoch 21/100\n",
            "11/11 [==============================] - 0s 5ms/step - loss: 5.0191 - val_loss: 5.9121\n",
            "Epoch 22/100\n",
            "11/11 [==============================] - 0s 5ms/step - loss: 4.3275 - val_loss: 4.9905\n",
            "Epoch 23/100\n",
            "11/11 [==============================] - 0s 5ms/step - loss: 4.3208 - val_loss: 4.9180\n",
            "Epoch 24/100\n",
            "11/11 [==============================] - 0s 5ms/step - loss: 3.9704 - val_loss: 7.5966\n",
            "Epoch 25/100\n",
            "11/11 [==============================] - 0s 5ms/step - loss: 6.7308 - val_loss: 6.2001\n",
            "Epoch 26/100\n",
            "11/11 [==============================] - 0s 5ms/step - loss: 5.1771 - val_loss: 6.4364\n",
            "Epoch 27/100\n",
            "11/11 [==============================] - 0s 5ms/step - loss: 4.8400 - val_loss: 5.5331\n",
            "Epoch 28/100\n",
            "11/11 [==============================] - 0s 5ms/step - loss: 4.3067 - val_loss: 4.7999\n",
            "Epoch 29/100\n",
            "11/11 [==============================] - 0s 5ms/step - loss: 4.1017 - val_loss: 5.0196\n",
            "Epoch 30/100\n",
            "11/11 [==============================] - 0s 5ms/step - loss: 4.3100 - val_loss: 5.3560\n",
            "Epoch 31/100\n",
            "11/11 [==============================] - 0s 5ms/step - loss: 4.6700 - val_loss: 4.7178\n",
            "Epoch 32/100\n",
            "11/11 [==============================] - 0s 5ms/step - loss: 3.9388 - val_loss: 4.7994\n",
            "Epoch 33/100\n",
            "11/11 [==============================] - 0s 5ms/step - loss: 4.0347 - val_loss: 4.6752\n",
            "Epoch 34/100\n",
            "11/11 [==============================] - 0s 5ms/step - loss: 4.3289 - val_loss: 4.7440\n",
            "Epoch 35/100\n",
            "11/11 [==============================] - 0s 5ms/step - loss: 3.8525 - val_loss: 4.7487\n",
            "Epoch 36/100\n",
            "11/11 [==============================] - 0s 5ms/step - loss: 3.8745 - val_loss: 4.8135\n",
            "Epoch 37/100\n",
            "11/11 [==============================] - 0s 5ms/step - loss: 4.1582 - val_loss: 5.2178\n",
            "Epoch 38/100\n",
            "11/11 [==============================] - 0s 4ms/step - loss: 4.4389 - val_loss: 4.7277\n",
            "Epoch 39/100\n",
            "11/11 [==============================] - 0s 5ms/step - loss: 4.4810 - val_loss: 4.6848\n",
            "Epoch 40/100\n",
            "11/11 [==============================] - 0s 5ms/step - loss: 3.6371 - val_loss: 4.9177\n",
            "Epoch 41/100\n",
            "11/11 [==============================] - 0s 5ms/step - loss: 4.1502 - val_loss: 4.5847\n",
            "Epoch 42/100\n",
            "11/11 [==============================] - 0s 5ms/step - loss: 4.0069 - val_loss: 4.6294\n",
            "Epoch 43/100\n",
            "11/11 [==============================] - 0s 5ms/step - loss: 3.9294 - val_loss: 5.2578\n",
            "Epoch 44/100\n",
            "11/11 [==============================] - 0s 4ms/step - loss: 4.3810 - val_loss: 4.6850\n",
            "Epoch 45/100\n",
            "11/11 [==============================] - 0s 5ms/step - loss: 4.3567 - val_loss: 4.6748\n",
            "Epoch 46/100\n",
            "11/11 [==============================] - 0s 5ms/step - loss: 4.2395 - val_loss: 4.6056\n",
            "Epoch 47/100\n",
            "11/11 [==============================] - 0s 6ms/step - loss: 3.7072 - val_loss: 4.4908\n",
            "Epoch 48/100\n",
            "11/11 [==============================] - 0s 6ms/step - loss: 3.8734 - val_loss: 4.4614\n",
            "Epoch 49/100\n",
            "11/11 [==============================] - 0s 5ms/step - loss: 4.1018 - val_loss: 4.5519\n",
            "Epoch 50/100\n",
            "11/11 [==============================] - 0s 4ms/step - loss: 4.5644 - val_loss: 4.5283\n",
            "Epoch 51/100\n",
            "11/11 [==============================] - 0s 5ms/step - loss: 3.4208 - val_loss: 4.4814\n",
            "Epoch 52/100\n",
            "11/11 [==============================] - 0s 5ms/step - loss: 3.9695 - val_loss: 4.8346\n",
            "Epoch 53/100\n",
            "11/11 [==============================] - 0s 4ms/step - loss: 3.6154 - val_loss: 4.4687\n",
            "Epoch 54/100\n",
            "11/11 [==============================] - 0s 5ms/step - loss: 3.9640 - val_loss: 4.3950\n",
            "Epoch 55/100\n",
            "11/11 [==============================] - 0s 4ms/step - loss: 3.7254 - val_loss: 4.4340\n",
            "Epoch 56/100\n",
            "11/11 [==============================] - 0s 5ms/step - loss: 3.6276 - val_loss: 4.3531\n",
            "Epoch 57/100\n",
            "11/11 [==============================] - 0s 5ms/step - loss: 3.7855 - val_loss: 4.5963\n",
            "Epoch 58/100\n",
            "11/11 [==============================] - 0s 5ms/step - loss: 3.3956 - val_loss: 4.4275\n",
            "Epoch 59/100\n",
            "11/11 [==============================] - 0s 5ms/step - loss: 3.9606 - val_loss: 5.0913\n",
            "Epoch 60/100\n",
            "11/11 [==============================] - 0s 5ms/step - loss: 4.5056 - val_loss: 4.5660\n",
            "Epoch 61/100\n",
            "11/11 [==============================] - 0s 4ms/step - loss: 3.5396 - val_loss: 4.4273\n",
            "Epoch 62/100\n",
            "11/11 [==============================] - 0s 5ms/step - loss: 3.8709 - val_loss: 4.3458\n",
            "Epoch 63/100\n",
            "11/11 [==============================] - 0s 5ms/step - loss: 4.0798 - val_loss: 4.7806\n",
            "Epoch 64/100\n",
            "11/11 [==============================] - 0s 5ms/step - loss: 3.4066 - val_loss: 4.2827\n",
            "Epoch 65/100\n",
            "11/11 [==============================] - 0s 5ms/step - loss: 3.5630 - val_loss: 4.3510\n",
            "Epoch 66/100\n",
            "11/11 [==============================] - 0s 5ms/step - loss: 3.7349 - val_loss: 4.4188\n",
            "Epoch 67/100\n",
            "11/11 [==============================] - 0s 6ms/step - loss: 3.4585 - val_loss: 4.3773\n",
            "Epoch 68/100\n",
            "11/11 [==============================] - 0s 5ms/step - loss: 3.8989 - val_loss: 4.2453\n",
            "Epoch 69/100\n",
            "11/11 [==============================] - 0s 5ms/step - loss: 3.5593 - val_loss: 4.3155\n",
            "Epoch 70/100\n",
            "11/11 [==============================] - 0s 5ms/step - loss: 3.5228 - val_loss: 5.9177\n",
            "Epoch 71/100\n",
            "11/11 [==============================] - 0s 5ms/step - loss: 5.3442 - val_loss: 4.9837\n",
            "Epoch 72/100\n",
            "11/11 [==============================] - 0s 4ms/step - loss: 4.0567 - val_loss: 4.8189\n",
            "Epoch 73/100\n",
            "11/11 [==============================] - 0s 5ms/step - loss: 3.7247 - val_loss: 4.5013\n",
            "Epoch 74/100\n",
            "11/11 [==============================] - 0s 4ms/step - loss: 4.2947 - val_loss: 4.5368\n",
            "Epoch 75/100\n",
            "11/11 [==============================] - 0s 5ms/step - loss: 3.4929 - val_loss: 4.2644\n",
            "Epoch 76/100\n",
            "11/11 [==============================] - 0s 5ms/step - loss: 3.6646 - val_loss: 4.3636\n",
            "Epoch 77/100\n",
            "11/11 [==============================] - 0s 5ms/step - loss: 3.6313 - val_loss: 4.5025\n",
            "Epoch 78/100\n",
            "11/11 [==============================] - 0s 5ms/step - loss: 3.7324 - val_loss: 4.3234\n",
            "Epoch 79/100\n",
            "11/11 [==============================] - 0s 6ms/step - loss: 3.4103 - val_loss: 4.3208\n",
            "Epoch 80/100\n",
            "11/11 [==============================] - 0s 5ms/step - loss: 4.0703 - val_loss: 4.5162\n",
            "Epoch 81/100\n",
            "11/11 [==============================] - 0s 5ms/step - loss: 3.6718 - val_loss: 4.1948\n",
            "Epoch 82/100\n",
            "11/11 [==============================] - 0s 6ms/step - loss: 3.8423 - val_loss: 4.2533\n",
            "Epoch 83/100\n",
            "11/11 [==============================] - 0s 6ms/step - loss: 3.6509 - val_loss: 4.7583\n",
            "Epoch 84/100\n",
            "11/11 [==============================] - 0s 5ms/step - loss: 3.5690 - val_loss: 4.8295\n",
            "Epoch 85/100\n",
            "11/11 [==============================] - 0s 5ms/step - loss: 3.5774 - val_loss: 4.2365\n",
            "Epoch 86/100\n",
            "11/11 [==============================] - 0s 5ms/step - loss: 3.5611 - val_loss: 4.3991\n",
            "Epoch 87/100\n",
            "11/11 [==============================] - 0s 5ms/step - loss: 3.8309 - val_loss: 4.1227\n",
            "Epoch 88/100\n",
            "11/11 [==============================] - 0s 5ms/step - loss: 3.5838 - val_loss: 4.2462\n",
            "Epoch 89/100\n",
            "11/11 [==============================] - 0s 5ms/step - loss: 3.9011 - val_loss: 5.8656\n",
            "Epoch 90/100\n",
            "11/11 [==============================] - 0s 5ms/step - loss: 5.2414 - val_loss: 4.8232\n",
            "Epoch 91/100\n",
            "11/11 [==============================] - 0s 5ms/step - loss: 3.8459 - val_loss: 4.2348\n",
            "Epoch 92/100\n",
            "11/11 [==============================] - 0s 5ms/step - loss: 3.3647 - val_loss: 4.2355\n",
            "Epoch 93/100\n",
            "11/11 [==============================] - 0s 5ms/step - loss: 3.6261 - val_loss: 4.7586\n",
            "Epoch 94/100\n",
            "11/11 [==============================] - 0s 5ms/step - loss: 3.7577 - val_loss: 5.0601\n",
            "Epoch 95/100\n",
            "11/11 [==============================] - 0s 5ms/step - loss: 3.5721 - val_loss: 4.8930\n",
            "Epoch 96/100\n",
            "11/11 [==============================] - 0s 5ms/step - loss: 3.7151 - val_loss: 4.1965\n",
            "Epoch 97/100\n",
            "11/11 [==============================] - 0s 5ms/step - loss: 3.2875 - val_loss: 4.3745\n",
            "Epoch 98/100\n",
            "11/11 [==============================] - 0s 4ms/step - loss: 3.3938 - val_loss: 4.2020\n",
            "Epoch 99/100\n",
            "11/11 [==============================] - 0s 5ms/step - loss: 3.4354 - val_loss: 4.2467\n",
            "Epoch 100/100\n",
            "11/11 [==============================] - 0s 5ms/step - loss: 3.6135 - val_loss: 4.2180\n"
          ],
          "name": "stdout"
        }
      ]
    },
    {
      "cell_type": "markdown",
      "metadata": {
        "id": "eac9FHftOcsg"
      },
      "source": [
        "# Modell evaluieren"
      ]
    },
    {
      "cell_type": "code",
      "metadata": {
        "id": "fDNuS7vhOe0j",
        "colab": {
          "base_uri": "https://localhost:8080/",
          "height": 300
        },
        "outputId": "23c19dff-ecf0-476f-85dc-6299066caadb"
      },
      "source": [
        "plt.plot(history.history['loss'], label='training loss')\n",
        "plt.plot(history.history['val_loss'], label = 'test loss')\n",
        "plt.xlabel('Epoch')\n",
        "plt.ylabel('Error')\n",
        "plt.ylim([0, 30])\n",
        "plt.legend(loc='upper right')"
      ],
      "execution_count": null,
      "outputs": [
        {
          "output_type": "execute_result",
          "data": {
            "text/plain": [
              "<matplotlib.legend.Legend at 0x7ff2c72bb2d0>"
            ]
          },
          "metadata": {
            "tags": []
          },
          "execution_count": 7
        },
        {
          "output_type": "display_data",
          "data": {
            "image/png": "[encoded data removed]",
            "text/plain": [
              "<Figure size 432x288 with 1 Axes>"
            ]
          },
          "metadata": {
            "tags": [],
            "needs_background": "light"
          }
        }
      ]
    },
    {
      "cell_type": "markdown",
      "metadata": {
        "id": "VuTS_amnOp80"
      },
      "source": [
        "# Vorhersagen treffen"
      ]
    },
    {
      "cell_type": "code",
      "metadata": {
        "id": "xBpM-b-MOnG4"
      },
      "source": [
        "test_predictions = model.predict(test_features)\n",
        "\n",
        "print(test_predictions.flatten())"
      ],
      "execution_count": null,
      "outputs": []
    },
    {
      "cell_type": "markdown",
      "metadata": {
        "id": "GFRWUp7aOw1f"
      },
      "source": [
        "# Vorhersagen evaluieren"
      ]
    },
    {
      "cell_type": "code",
      "metadata": {
        "id": "DX7LbxqnOzU1",
        "colab": {
          "base_uri": "https://localhost:8080/",
          "height": 283
        },
        "outputId": "bb050ab5-bf4d-49c8-b592-82c528f8887a"
      },
      "source": [
        "plt.axes(aspect='equal')\n",
        "plt.scatter(test_labels, test_predictions)\n",
        "plt.xlabel('True Values')\n",
        "plt.ylabel('Predictions')\n",
        "lims = [0, 50]\n",
        "plt.xlim(lims)\n",
        "plt.ylim(lims)\n",
        "plt.plot(lims, lims)\n",
        "plt.show()"
      ],
      "execution_count": null,
      "outputs": [
        {
          "output_type": "display_data",
          "data": {
            "image/png": "[encoded data removed]",
            "text/plain": [
              "<Figure size 432x288 with 1 Axes>"
            ]
          },
          "metadata": {
            "tags": [],
            "needs_background": "light"
          }
        }
      ]
    }
  ]
}